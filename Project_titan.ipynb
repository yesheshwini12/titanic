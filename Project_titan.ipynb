{
  "nbformat": 4,
  "nbformat_minor": 0,
  "metadata": {
    "kernelspec": {
      "display_name": "Python 3",
      "language": "python",
      "name": "python3"
    },
    "language_info": {
      "codemirror_mode": {
        "name": "ipython",
        "version": 3
      },
      "file_extension": ".py",
      "mimetype": "text/x-python",
      "name": "python",
      "nbconvert_exporter": "python",
      "pygments_lexer": "ipython3",
      "version": "3.6.1"
    },
    "colab": {
      "name": "Project_titan.ipynb",
      "provenance": []
    }
  },
  "cells": [
    {
      "cell_type": "code",
      "metadata": {
        "_cell_guid": "8466f497-98e5-42dd-85e8-c6d8e5a92fcd",
        "_uuid": "f9a67b9ef8b861c01b92674eeb079258b1145bbd",
        "collapsed": true,
        "id": "p7GS_zC-SmEQ"
      },
      "source": [
        "import pandas as pd\n",
        "import seaborn as sns\n",
        "import matplotlib.pyplot as plt\n",
        "import numpy as np\n",
        "%matplotlib inline\n",
        "sns.set_style(\"whitegrid\")\n",
        "from sklearn import preprocessing\n",
        "import warnings\n",
        "warnings.filterwarnings('ignore')"
      ],
      "execution_count": null,
      "outputs": []
    },
    {
      "cell_type": "code",
      "metadata": {
        "_cell_guid": "8aa54c26-118b-44c2-9ba5-355232cf0ebc",
        "_uuid": "aaf73b846b06e4ec3b1b41593dfb42d0a134daf6",
        "collapsed": true,
        "id": "zCmMnHiWSmEV"
      },
      "source": [
        "#Load Titanic Dataset\n",
        "train = pd.read_csv(\"/content/train.csv\")\n",
        "test = pd.read_csv(\"/content/test.csv\")"
      ],
      "execution_count": null,
      "outputs": []
    },
    {
      "cell_type": "code",
      "metadata": {
        "_cell_guid": "495dda92-62f5-43af-a603-a1456fcf61cc",
        "_uuid": "a36f8a1b8e411f836cef7b94325b754788639eaa",
        "colab": {
          "base_uri": "https://localhost:8080/"
        },
        "id": "Gil5RvTMSmEW",
        "outputId": "1f4efc7d-08fd-4461-9006-2727acfe3a3a"
      },
      "source": [
        "#Get detailed information about datasets\n",
        "train.info()\n",
        "print('=' * 40)\n",
        "test.info()"
      ],
      "execution_count": null,
      "outputs": [
        {
          "output_type": "stream",
          "name": "stdout",
          "text": [
            "<class 'pandas.core.frame.DataFrame'>\n",
            "RangeIndex: 891 entries, 0 to 890\n",
            "Data columns (total 12 columns):\n",
            " #   Column       Non-Null Count  Dtype  \n",
            "---  ------       --------------  -----  \n",
            " 0   PassengerId  891 non-null    int64  \n",
            " 1   Survived     891 non-null    int64  \n",
            " 2   Pclass       891 non-null    int64  \n",
            " 3   Name         891 non-null    object \n",
            " 4   Sex          891 non-null    object \n",
            " 5   Age          714 non-null    float64\n",
            " 6   SibSp        891 non-null    int64  \n",
            " 7   Parch        891 non-null    int64  \n",
            " 8   Ticket       891 non-null    object \n",
            " 9   Fare         891 non-null    float64\n",
            " 10  Cabin        204 non-null    object \n",
            " 11  Embarked     889 non-null    object \n",
            "dtypes: float64(2), int64(5), object(5)\n",
            "memory usage: 83.7+ KB\n",
            "========================================\n",
            "<class 'pandas.core.frame.DataFrame'>\n",
            "RangeIndex: 418 entries, 0 to 417\n",
            "Data columns (total 11 columns):\n",
            " #   Column       Non-Null Count  Dtype  \n",
            "---  ------       --------------  -----  \n",
            " 0   PassengerId  418 non-null    int64  \n",
            " 1   Pclass       418 non-null    int64  \n",
            " 2   Name         418 non-null    object \n",
            " 3   Sex          418 non-null    object \n",
            " 4   Age          332 non-null    float64\n",
            " 5   SibSp        418 non-null    int64  \n",
            " 6   Parch        418 non-null    int64  \n",
            " 7   Ticket       418 non-null    object \n",
            " 8   Fare         417 non-null    float64\n",
            " 9   Cabin        91 non-null     object \n",
            " 10  Embarked     418 non-null    object \n",
            "dtypes: float64(2), int64(4), object(5)\n",
            "memory usage: 36.0+ KB\n"
          ]
        }
      ]
    },
    {
      "cell_type": "markdown",
      "metadata": {
        "_cell_guid": "767fe19a-cd51-4df8-9252-11b9f8453f69",
        "_uuid": "4f80b1da553d156cb2e14e1d1213661264b5fd47",
        "id": "zjpfTWc_SmEZ"
      },
      "source": [
        "# Feature Engineering"
      ]
    },
    {
      "cell_type": "code",
      "metadata": {
        "_cell_guid": "378fe4b5-3b3c-48ce-9ca6-02ba58d7ba20",
        "_uuid": "564641aa444f3bb1dfbafa03328af845d871f31c",
        "colab": {
          "base_uri": "https://localhost:8080/",
          "height": 478
        },
        "id": "tkx5_JGPSmEa",
        "outputId": "1ad2f0e5-e4cb-46dd-c105-6f0dc00ecfa7"
      },
      "source": [
        "#Get a view of data\n",
        "train.head(10)"
      ],
      "execution_count": null,
      "outputs": [
        {
          "output_type": "execute_result",
          "data": {
            "text/html": [
              "<div>\n",
              "<style scoped>\n",
              "    .dataframe tbody tr th:only-of-type {\n",
              "        vertical-align: middle;\n",
              "    }\n",
              "\n",
              "    .dataframe tbody tr th {\n",
              "        vertical-align: top;\n",
              "    }\n",
              "\n",
              "    .dataframe thead th {\n",
              "        text-align: right;\n",
              "    }\n",
              "</style>\n",
              "<table border=\"1\" class=\"dataframe\">\n",
              "  <thead>\n",
              "    <tr style=\"text-align: right;\">\n",
              "      <th></th>\n",
              "      <th>PassengerId</th>\n",
              "      <th>Survived</th>\n",
              "      <th>Pclass</th>\n",
              "      <th>Name</th>\n",
              "      <th>Sex</th>\n",
              "      <th>Age</th>\n",
              "      <th>SibSp</th>\n",
              "      <th>Parch</th>\n",
              "      <th>Ticket</th>\n",
              "      <th>Fare</th>\n",
              "      <th>Cabin</th>\n",
              "      <th>Embarked</th>\n",
              "    </tr>\n",
              "  </thead>\n",
              "  <tbody>\n",
              "    <tr>\n",
              "      <th>0</th>\n",
              "      <td>1</td>\n",
              "      <td>0</td>\n",
              "      <td>3</td>\n",
              "      <td>Braund, Mr. Owen Harris</td>\n",
              "      <td>male</td>\n",
              "      <td>22.0</td>\n",
              "      <td>1</td>\n",
              "      <td>0</td>\n",
              "      <td>A/5 21171</td>\n",
              "      <td>7.2500</td>\n",
              "      <td>NaN</td>\n",
              "      <td>S</td>\n",
              "    </tr>\n",
              "    <tr>\n",
              "      <th>1</th>\n",
              "      <td>2</td>\n",
              "      <td>1</td>\n",
              "      <td>1</td>\n",
              "      <td>Cumings, Mrs. John Bradley (Florence Briggs Th...</td>\n",
              "      <td>female</td>\n",
              "      <td>38.0</td>\n",
              "      <td>1</td>\n",
              "      <td>0</td>\n",
              "      <td>PC 17599</td>\n",
              "      <td>71.2833</td>\n",
              "      <td>C85</td>\n",
              "      <td>C</td>\n",
              "    </tr>\n",
              "    <tr>\n",
              "      <th>2</th>\n",
              "      <td>3</td>\n",
              "      <td>1</td>\n",
              "      <td>3</td>\n",
              "      <td>Heikkinen, Miss. Laina</td>\n",
              "      <td>female</td>\n",
              "      <td>26.0</td>\n",
              "      <td>0</td>\n",
              "      <td>0</td>\n",
              "      <td>STON/O2. 3101282</td>\n",
              "      <td>7.9250</td>\n",
              "      <td>NaN</td>\n",
              "      <td>S</td>\n",
              "    </tr>\n",
              "    <tr>\n",
              "      <th>3</th>\n",
              "      <td>4</td>\n",
              "      <td>1</td>\n",
              "      <td>1</td>\n",
              "      <td>Futrelle, Mrs. Jacques Heath (Lily May Peel)</td>\n",
              "      <td>female</td>\n",
              "      <td>35.0</td>\n",
              "      <td>1</td>\n",
              "      <td>0</td>\n",
              "      <td>113803</td>\n",
              "      <td>53.1000</td>\n",
              "      <td>C123</td>\n",
              "      <td>S</td>\n",
              "    </tr>\n",
              "    <tr>\n",
              "      <th>4</th>\n",
              "      <td>5</td>\n",
              "      <td>0</td>\n",
              "      <td>3</td>\n",
              "      <td>Allen, Mr. William Henry</td>\n",
              "      <td>male</td>\n",
              "      <td>35.0</td>\n",
              "      <td>0</td>\n",
              "      <td>0</td>\n",
              "      <td>373450</td>\n",
              "      <td>8.0500</td>\n",
              "      <td>NaN</td>\n",
              "      <td>S</td>\n",
              "    </tr>\n",
              "    <tr>\n",
              "      <th>5</th>\n",
              "      <td>6</td>\n",
              "      <td>0</td>\n",
              "      <td>3</td>\n",
              "      <td>Moran, Mr. James</td>\n",
              "      <td>male</td>\n",
              "      <td>NaN</td>\n",
              "      <td>0</td>\n",
              "      <td>0</td>\n",
              "      <td>330877</td>\n",
              "      <td>8.4583</td>\n",
              "      <td>NaN</td>\n",
              "      <td>Q</td>\n",
              "    </tr>\n",
              "    <tr>\n",
              "      <th>6</th>\n",
              "      <td>7</td>\n",
              "      <td>0</td>\n",
              "      <td>1</td>\n",
              "      <td>McCarthy, Mr. Timothy J</td>\n",
              "      <td>male</td>\n",
              "      <td>54.0</td>\n",
              "      <td>0</td>\n",
              "      <td>0</td>\n",
              "      <td>17463</td>\n",
              "      <td>51.8625</td>\n",
              "      <td>E46</td>\n",
              "      <td>S</td>\n",
              "    </tr>\n",
              "    <tr>\n",
              "      <th>7</th>\n",
              "      <td>8</td>\n",
              "      <td>0</td>\n",
              "      <td>3</td>\n",
              "      <td>Palsson, Master. Gosta Leonard</td>\n",
              "      <td>male</td>\n",
              "      <td>2.0</td>\n",
              "      <td>3</td>\n",
              "      <td>1</td>\n",
              "      <td>349909</td>\n",
              "      <td>21.0750</td>\n",
              "      <td>NaN</td>\n",
              "      <td>S</td>\n",
              "    </tr>\n",
              "    <tr>\n",
              "      <th>8</th>\n",
              "      <td>9</td>\n",
              "      <td>1</td>\n",
              "      <td>3</td>\n",
              "      <td>Johnson, Mrs. Oscar W (Elisabeth Vilhelmina Berg)</td>\n",
              "      <td>female</td>\n",
              "      <td>27.0</td>\n",
              "      <td>0</td>\n",
              "      <td>2</td>\n",
              "      <td>347742</td>\n",
              "      <td>11.1333</td>\n",
              "      <td>NaN</td>\n",
              "      <td>S</td>\n",
              "    </tr>\n",
              "    <tr>\n",
              "      <th>9</th>\n",
              "      <td>10</td>\n",
              "      <td>1</td>\n",
              "      <td>2</td>\n",
              "      <td>Nasser, Mrs. Nicholas (Adele Achem)</td>\n",
              "      <td>female</td>\n",
              "      <td>14.0</td>\n",
              "      <td>1</td>\n",
              "      <td>0</td>\n",
              "      <td>237736</td>\n",
              "      <td>30.0708</td>\n",
              "      <td>NaN</td>\n",
              "      <td>C</td>\n",
              "    </tr>\n",
              "  </tbody>\n",
              "</table>\n",
              "</div>"
            ],
            "text/plain": [
              "   PassengerId  Survived  Pclass  ...     Fare Cabin  Embarked\n",
              "0            1         0       3  ...   7.2500   NaN         S\n",
              "1            2         1       1  ...  71.2833   C85         C\n",
              "2            3         1       3  ...   7.9250   NaN         S\n",
              "3            4         1       1  ...  53.1000  C123         S\n",
              "4            5         0       3  ...   8.0500   NaN         S\n",
              "5            6         0       3  ...   8.4583   NaN         Q\n",
              "6            7         0       1  ...  51.8625   E46         S\n",
              "7            8         0       3  ...  21.0750   NaN         S\n",
              "8            9         1       3  ...  11.1333   NaN         S\n",
              "9           10         1       2  ...  30.0708   NaN         C\n",
              "\n",
              "[10 rows x 12 columns]"
            ]
          },
          "metadata": {},
          "execution_count": 6
        }
      ]
    },
    {
      "cell_type": "code",
      "metadata": {
        "_cell_guid": "e01ea350-da62-41ea-8165-0b69cfc1ec93",
        "_uuid": "4c80cb4d97e95fe64f49359947ab2d406d64963c",
        "colab": {
          "base_uri": "https://localhost:8080/",
          "height": 297
        },
        "id": "itq--5BfSmEb",
        "outputId": "d5423b96-dda4-4935-a131-6ef963831090"
      },
      "source": [
        "#Get other description\n",
        "train.describe()"
      ],
      "execution_count": null,
      "outputs": [
        {
          "output_type": "execute_result",
          "data": {
            "text/html": [
              "<div>\n",
              "<style scoped>\n",
              "    .dataframe tbody tr th:only-of-type {\n",
              "        vertical-align: middle;\n",
              "    }\n",
              "\n",
              "    .dataframe tbody tr th {\n",
              "        vertical-align: top;\n",
              "    }\n",
              "\n",
              "    .dataframe thead th {\n",
              "        text-align: right;\n",
              "    }\n",
              "</style>\n",
              "<table border=\"1\" class=\"dataframe\">\n",
              "  <thead>\n",
              "    <tr style=\"text-align: right;\">\n",
              "      <th></th>\n",
              "      <th>PassengerId</th>\n",
              "      <th>Survived</th>\n",
              "      <th>Pclass</th>\n",
              "      <th>Age</th>\n",
              "      <th>SibSp</th>\n",
              "      <th>Parch</th>\n",
              "      <th>Fare</th>\n",
              "    </tr>\n",
              "  </thead>\n",
              "  <tbody>\n",
              "    <tr>\n",
              "      <th>count</th>\n",
              "      <td>891.000000</td>\n",
              "      <td>891.000000</td>\n",
              "      <td>891.000000</td>\n",
              "      <td>714.000000</td>\n",
              "      <td>891.000000</td>\n",
              "      <td>891.000000</td>\n",
              "      <td>891.000000</td>\n",
              "    </tr>\n",
              "    <tr>\n",
              "      <th>mean</th>\n",
              "      <td>446.000000</td>\n",
              "      <td>0.383838</td>\n",
              "      <td>2.308642</td>\n",
              "      <td>29.699118</td>\n",
              "      <td>0.523008</td>\n",
              "      <td>0.381594</td>\n",
              "      <td>32.204208</td>\n",
              "    </tr>\n",
              "    <tr>\n",
              "      <th>std</th>\n",
              "      <td>257.353842</td>\n",
              "      <td>0.486592</td>\n",
              "      <td>0.836071</td>\n",
              "      <td>14.526497</td>\n",
              "      <td>1.102743</td>\n",
              "      <td>0.806057</td>\n",
              "      <td>49.693429</td>\n",
              "    </tr>\n",
              "    <tr>\n",
              "      <th>min</th>\n",
              "      <td>1.000000</td>\n",
              "      <td>0.000000</td>\n",
              "      <td>1.000000</td>\n",
              "      <td>0.420000</td>\n",
              "      <td>0.000000</td>\n",
              "      <td>0.000000</td>\n",
              "      <td>0.000000</td>\n",
              "    </tr>\n",
              "    <tr>\n",
              "      <th>25%</th>\n",
              "      <td>223.500000</td>\n",
              "      <td>0.000000</td>\n",
              "      <td>2.000000</td>\n",
              "      <td>20.125000</td>\n",
              "      <td>0.000000</td>\n",
              "      <td>0.000000</td>\n",
              "      <td>7.910400</td>\n",
              "    </tr>\n",
              "    <tr>\n",
              "      <th>50%</th>\n",
              "      <td>446.000000</td>\n",
              "      <td>0.000000</td>\n",
              "      <td>3.000000</td>\n",
              "      <td>28.000000</td>\n",
              "      <td>0.000000</td>\n",
              "      <td>0.000000</td>\n",
              "      <td>14.454200</td>\n",
              "    </tr>\n",
              "    <tr>\n",
              "      <th>75%</th>\n",
              "      <td>668.500000</td>\n",
              "      <td>1.000000</td>\n",
              "      <td>3.000000</td>\n",
              "      <td>38.000000</td>\n",
              "      <td>1.000000</td>\n",
              "      <td>0.000000</td>\n",
              "      <td>31.000000</td>\n",
              "    </tr>\n",
              "    <tr>\n",
              "      <th>max</th>\n",
              "      <td>891.000000</td>\n",
              "      <td>1.000000</td>\n",
              "      <td>3.000000</td>\n",
              "      <td>80.000000</td>\n",
              "      <td>8.000000</td>\n",
              "      <td>6.000000</td>\n",
              "      <td>512.329200</td>\n",
              "    </tr>\n",
              "  </tbody>\n",
              "</table>\n",
              "</div>"
            ],
            "text/plain": [
              "       PassengerId    Survived      Pclass  ...       SibSp       Parch        Fare\n",
              "count   891.000000  891.000000  891.000000  ...  891.000000  891.000000  891.000000\n",
              "mean    446.000000    0.383838    2.308642  ...    0.523008    0.381594   32.204208\n",
              "std     257.353842    0.486592    0.836071  ...    1.102743    0.806057   49.693429\n",
              "min       1.000000    0.000000    1.000000  ...    0.000000    0.000000    0.000000\n",
              "25%     223.500000    0.000000    2.000000  ...    0.000000    0.000000    7.910400\n",
              "50%     446.000000    0.000000    3.000000  ...    0.000000    0.000000   14.454200\n",
              "75%     668.500000    1.000000    3.000000  ...    1.000000    0.000000   31.000000\n",
              "max     891.000000    1.000000    3.000000  ...    8.000000    6.000000  512.329200\n",
              "\n",
              "[8 rows x 7 columns]"
            ]
          },
          "metadata": {},
          "execution_count": 7
        }
      ]
    },
    {
      "cell_type": "code",
      "metadata": {
        "_cell_guid": "2a553a33-8e20-4730-abd6-5ffcd6bf07cf",
        "_uuid": "e38ae5fbb12ddf9ec28064a8bd1c9b9caf131983",
        "collapsed": true,
        "id": "Gn8_Yf5aSmEc"
      },
      "source": [
        "#Remove unnecessary columns\n",
        "train.drop(['PassengerId', 'Ticket'], axis=1, inplace=True)\n",
        "test.drop(['Ticket'], axis=1, inplace=True)"
      ],
      "execution_count": null,
      "outputs": []
    },
    {
      "cell_type": "code",
      "metadata": {
        "_cell_guid": "42a5039a-bfe1-4e95-a401-15d061508426",
        "_uuid": "8c59f0e652772d298832208bb4a95839cc174a0b",
        "colab": {
          "base_uri": "https://localhost:8080/",
          "height": 385
        },
        "id": "clPimNOmSmEc",
        "outputId": "784f2b11-fe9e-4ad9-8094-779a37f92e80"
      },
      "source": [
        "#Feature - Pclass\n",
        "\n",
        "#Number of null values\n",
        "print(\"Total Null Entries in training samples :\", train['Pclass'].isnull().sum())\n",
        "print(\"Total Null Entries in testing samples  :\", test['Pclass'].isnull().sum())\n",
        "\n",
        "#Data Visualization\n",
        "fig, (ax1, ax2) = plt.subplots(nrows=1, ncols=2, figsize=(12,5))\n",
        "sns.pointplot(data=train, x=\"Pclass\", y=\"Survived\", ax=ax1)\n",
        "sns.countplot(data=train, x=\"Pclass\", hue=\"Survived\", ax=ax2)"
      ],
      "execution_count": null,
      "outputs": [
        {
          "output_type": "stream",
          "name": "stdout",
          "text": [
            "Total Null Entries in training samples : 0\n",
            "Total Null Entries in testing samples  : 0\n"
          ]
        },
        {
          "output_type": "execute_result",
          "data": {
            "text/plain": [
              "<matplotlib.axes._subplots.AxesSubplot at 0x7fbedddc5650>"
            ]
          },
          "metadata": {},
          "execution_count": 9
        },
        {
          "output_type": "display_data",
          "data": {
            "image/png": "[encoded data removed]",
            "text/plain": [
              "<Figure size 864x360 with 2 Axes>"
            ]
          },
          "metadata": {
            "needs_background": "light"
          }
        }
      ]
    },
    {
      "cell_type": "code",
      "metadata": {
        "_cell_guid": "0658a643-def1-42b4-9933-afe224f11387",
        "_uuid": "a5fcd5ab76117399c6b056dfd5a9fc71a95685e5",
        "colab": {
          "base_uri": "https://localhost:8080/",
          "height": 531
        },
        "id": "SURXFfjPSmEd",
        "outputId": "40282a06-8e67-41dc-b3b7-63a319b15a07"
      },
      "source": [
        "#Feature - Name\n",
        "\n",
        "#Number of null values\n",
        "print(\"Total Null Entries in training samples :\", train['Name'].isnull().sum())\n",
        "print(\"Total Null Entries in testing samples  :\", test['Name'].isnull().sum())\n",
        "\n",
        "#Names doesn't matter much, but the title associated with it may help.\n",
        "#Extract titles from names\n",
        "train['Title'] = train[\"Name\"].map(lambda name : name.split(\".\")[0].split(\" \")[-1])\n",
        "test['Title'] = test[\"Name\"].map(lambda name : name.split(\".\")[0].split(\" \")[-1])\n",
        "train[\"Title\"] = train[\"Title\"].map({\"Mr\" : \"Mr\", \"Mrs\" : \"Mrs\", \"Miss\" : \"Miss\", \"Master\" : \"Master\"})\n",
        "train[\"Title\"].fillna(\"Others\", inplace=True)\n",
        "test[\"Title\"] = test[\"Title\"].map({\"Mr\" : \"Mr\", \"Mrs\" : \"Mrs\", \"Miss\" : \"Miss\", \"Master\" : \"Master\"})\n",
        "test[\"Title\"].fillna(\"Others\", inplace=True)\n",
        "\n",
        "#Data Visualization\n",
        "fig, ax1 = plt.subplots(nrows=1, ncols=1, figsize=(15,8))\n",
        "sns.countplot(data=train, x=\"Title\", hue=\"Survived\", ax=ax1)\n",
        "\n",
        "#Map titles to nominal values\n",
        "train[\"Title\"] = train[\"Title\"].map({\"Mr\" : 0, \"Mrs\" : 1, \"Miss\" : 2, \"Master\" : 3, \"Others\" : 4})\n",
        "test[\"Title\"] = test[\"Title\"].map({\"Mr\" : 0, \"Mrs\" : 1, \"Miss\" : 2, \"Master\" : 3, \"Others\" : 4})\n",
        "\n",
        "#Drop names\n",
        "train.drop('Name', axis=1, inplace=True)\n",
        "test.drop('Name', axis=1, inplace=True)"
      ],
      "execution_count": null,
      "outputs": [
        {
          "output_type": "stream",
          "name": "stdout",
          "text": [
            "Total Null Entries in training samples : 0\n",
            "Total Null Entries in testing samples  : 0\n"
          ]
        },
        {
          "output_type": "display_data",
          "data": {
            "image/png": "[encoded data removed]",
            "text/plain": [
              "<Figure size 1080x576 with 1 Axes>"
            ]
          },
          "metadata": {
            "needs_background": "light"
          }
        }
      ]
    },
    {
      "cell_type": "code",
      "metadata": {
        "_cell_guid": "cf1db460-20c0-434f-bcd1-97c63e289d99",
        "_uuid": "8b055c31d8cc3606b27f192fd1b84af036975e51",
        "colab": {
          "base_uri": "https://localhost:8080/",
          "height": 368
        },
        "id": "80TMo8lISmEe",
        "outputId": "f18e4a64-131d-40f0-9a5e-5706bc562244"
      },
      "source": [
        "#Feature - Sex\n",
        "\n",
        "#Number of null values\n",
        "print(\"Total Null Entries in training samples :\", train['Sex'].isnull().sum())\n",
        "print(\"Total Null Entries in testing samples  :\", test['Sex'].isnull().sum())\n",
        "\n",
        "#Data Visualization\n",
        "fig, (ax1, ax2) = plt.subplots(1, 2, figsize=(12,5))\n",
        "sns.pointplot(data=train, x=\"Sex\", y=\"Survived\", ax=ax1)\n",
        "sns.countplot(data=train, x=\"Sex\", hue=\"Survived\", ax=ax2)\n",
        "\n",
        "#Map to integer data\n",
        "train[\"Sex\"] = train[\"Sex\"].map({\"male\" : 0, \"female\" : 1})\n",
        "test[\"Sex\"] = test[\"Sex\"].map({\"male\" : 0, \"female\" : 1})"
      ],
      "execution_count": null,
      "outputs": [
        {
          "output_type": "stream",
          "name": "stdout",
          "text": [
            "Total Null Entries in training samples : 0\n",
            "Total Null Entries in testing samples  : 0\n"
          ]
        },
        {
          "output_type": "display_data",
          "data": {
            "image/png": "[encoded data removed]",
            "text/plain": [
              "<Figure size 864x360 with 2 Axes>"
            ]
          },
          "metadata": {
            "needs_background": "light"
          }
        }
      ]
    },
    {
      "cell_type": "code",
      "metadata": {
        "_cell_guid": "6f966d13-0fc5-4f1f-88a3-37b905a8c0ea",
        "_uuid": "1c5add7a3591bce3f4a8950a74db4f4d6fbafd50",
        "scrolled": true,
        "colab": {
          "base_uri": "https://localhost:8080/",
          "height": 368
        },
        "id": "quzFHpq1SmEf",
        "outputId": "979276f4-137b-41dd-bf83-b98959c3da89"
      },
      "source": [
        "#Feature - Age\n",
        "\n",
        "#Number of null values\n",
        "print(\"Total Null Entries in training samples :\", train['Age'].isnull().sum())\n",
        "print(\"Total Null Entries in testing samples  :\", test['Age'].isnull().sum())\n",
        "\n",
        "#One of the way to deal with missing values is to replace them with mean of that feature values, \n",
        "#but since there are too many null entries, i will be categorizing these entries into \n",
        "#labels - [child, adult, old, missingdata]\n",
        "\n",
        "train[\"AgeCategory\"] = \"Adult\"\n",
        "train[\"AgeCategory\"].loc[train[\"Age\"] < 18 ] = \"Child\"\n",
        "train[\"AgeCategory\"].loc[train[\"Age\"] > 50 ] = \"Old\"\n",
        "train[\"AgeCategory\"].loc[train[\"Age\"].isnull()] = \"MissingData\"\n",
        "\n",
        "test[\"AgeCategory\"] = \"Adult\"\n",
        "test[\"AgeCategory\"].loc[train[\"Age\"] < 18 ] = \"Child\"\n",
        "test[\"AgeCategory\"].loc[train[\"Age\"] > 50 ] = \"Old\"\n",
        "test[\"AgeCategory\"].loc[train[\"Age\"].isnull()] = \"MissingData\"\n",
        "\n",
        "#Data Visualization\n",
        "fig, (ax1, ax2) = plt.subplots(1, 2, figsize=(12,5))\n",
        "sns.barplot(data=train, x=\"AgeCategory\", y=\"Survived\", ax=ax1, order=[\"Child\", \"Adult\", \"Old\", \"MissingData\"])\n",
        "sns.countplot(data=train, x=\"AgeCategory\", hue=\"Survived\", ax=ax2, order=[\"Child\", \"Adult\", \"Old\", \"MissingData\"])\n",
        "\n",
        "#Map to integer data\n",
        "train[\"AgeCategory\"] = train[\"AgeCategory\"].map({\"Child\" : 0, \"Adult\" : 1, \"Old\" : 2, \"MissingData\" : 3})\n",
        "test[\"AgeCategory\"] = test[\"AgeCategory\"].map({\"Child\" : 0, \"Adult\" : 1, \"Old\" : 2, \"MissingData\" : 3})\n",
        "\n",
        "#Drop Age\n",
        "train.drop(\"Age\", axis=1, inplace=True)\n",
        "test.drop(\"Age\", axis=1, inplace=True)"
      ],
      "execution_count": null,
      "outputs": [
        {
          "output_type": "stream",
          "name": "stdout",
          "text": [
            "Total Null Entries in training samples : 177\n",
            "Total Null Entries in testing samples  : 86\n"
          ]
        },
        {
          "output_type": "display_data",
          "data": {
            "image/png": "[encoded data removed]",
            "text/plain": [
              "<Figure size 864x360 with 2 Axes>"
            ]
          },
          "metadata": {
            "needs_background": "light"
          }
        }
      ]
    },
    {
      "cell_type": "code",
      "metadata": {
        "_cell_guid": "b546b533-9c89-4569-a65a-29e7d2f2a80c",
        "_uuid": "8d4533e94b98b79d94aae4c626ea77c8a768882c",
        "colab": {
          "base_uri": "https://localhost:8080/",
          "height": 651
        },
        "id": "4GGaT8UTSmEh",
        "outputId": "dec542ad-d9be-4eac-d9c8-d6602acf79d0"
      },
      "source": [
        "#Feature - Family\n",
        "\n",
        "#From sibSp and Parch, we can add whether a person has a family or not.\n",
        "#Also we will create another feature determining number of family members onboard.\n",
        "\n",
        "train['Family'] = train['SibSp'] + train['Parch'] + 1\n",
        "train['FamilySize'] = train['Family']\n",
        "train['FamilySize'].loc[train['Family'] == 1] = \"Small\"\n",
        "train['FamilySize'].loc[train['Family'] > 1] = \"Medium\"\n",
        "train['FamilySize'].loc[train['Family'] > 5] = \"Large\"\n",
        "train['Family'].loc[train['Family'] > 1] = 'withFamily'\n",
        "train['Family'].loc[train['Family'] == 1] = 'Alone'\n",
        "\n",
        "test['Family'] = test['SibSp'] + test['Parch'] + 1\n",
        "test['FamilySize'] = test['Family']\n",
        "test['FamilySize'].loc[test['Family'] == 1] = \"Small\"\n",
        "test['FamilySize'].loc[test['Family'] > 1] = \"Medium\"\n",
        "test['FamilySize'].loc[test['Family'] > 5] = \"Large\"\n",
        "test['Family'].loc[test['Family'] > 1] = 'withFamily'\n",
        "test['Family'].loc[test['Family'] == 1] = 'Alone'\n",
        "\n",
        "#Data Visualization\n",
        "fig, (ax1, ax2) = plt.subplots(1, 2, figsize=(12,5))\n",
        "sns.barplot(data=train, x=\"Family\", y=\"Survived\", ax=ax1)\n",
        "sns.countplot(data=train, x=\"Family\", hue=\"Survived\", ax=ax2)\n",
        "fig, (ax3, ax4) = plt.subplots(1, 2, figsize=(12,5))\n",
        "sns.barplot(data=train, x=\"FamilySize\", y=\"Survived\", ax=ax3, order=[\"Small\", \"Medium\", \"Large\"])\n",
        "sns.countplot(data=train, x=\"FamilySize\", hue=\"Survived\", ax=ax4, order=[\"Small\", \"Medium\", \"Large\"])\n",
        "\n",
        "#Map to integral values\n",
        "train[\"Family\"] = train[\"Family\"].map({\"Alone\" : 0, \"withFamily\" : 1})\n",
        "train[\"FamilySize\"] = train[\"FamilySize\"].map({\"Small\" : 0, \"Medium\" : 1, \"Large\" : 2})\n",
        "test[\"Family\"] = test[\"Family\"].map({\"Alone\" : 0, \"withFamily\" : 1})\n",
        "test[\"FamilySize\"] = test[\"FamilySize\"].map({\"Small\" : 0, \"Medium\" : 1, \"Large\" : 2})\n",
        "\n",
        "#Drop SibSp and Parch Columns\n",
        "train.drop([\"Parch\", \"SibSp\"], axis=1, inplace=True)\n",
        "test.drop([\"Parch\", \"SibSp\"], axis=1, inplace=True)"
      ],
      "execution_count": null,
      "outputs": [
        {
          "output_type": "display_data",
          "data": {
            "image/png": "[encoded data removed]",
            "text/plain": [
              "<Figure size 864x360 with 2 Axes>"
            ]
          },
          "metadata": {
            "needs_background": "light"
          }
        },
        {
          "output_type": "display_data",
          "data": {
            "image/png": "[encoded data removed]",
            "text/plain": [
              "<Figure size 864x360 with 2 Axes>"
            ]
          },
          "metadata": {
            "needs_background": "light"
          }
        }
      ]
    },
    {
      "cell_type": "code",
      "metadata": {
        "_cell_guid": "e61a65ab-4099-4f29-aca5-41644eb9a5aa",
        "_uuid": "e693bac1db347b2187235ef736a5e3b1dfdb07b4",
        "colab": {
          "base_uri": "https://localhost:8080/",
          "height": 1000
        },
        "id": "g2UZpewBSmEi",
        "outputId": "ec825e30-eafd-44da-d8ec-7e2bbc0940c8"
      },
      "source": [
        "#Feature - Fare\n",
        "\n",
        "#Number of null values\n",
        "print(\"Total Null Entries in training samples :\", train['Fare'].isnull().sum())\n",
        "print(\"Total Null Entries in testing samples  :\", test['Fare'].isnull().sum())\n",
        "\n",
        "#Fill null values with mean fare\n",
        "test['Fare'].fillna(train['Fare'].mean(), inplace=True)\n",
        "\n",
        "#Data Visualization\n",
        "fig = plt.figure(figsize=(15,8))\n",
        "plt.hist([train[train[\"Survived\"]==0][\"Fare\"], train[train[\"Survived\"]==1][\"Fare\"]], stacked=True, bins=20, label=['Dead', 'Survived'])\n",
        "plt.xlabel(\"Fare Range\")\n",
        "plt.ylabel(\"Count\")\n",
        "plt.legend()\n",
        "\n",
        "#Fare data contains some extreme values which can be normalized\n",
        "scale = preprocessing.MinMaxScaler()\n",
        "train['normalizedFare'] = scale.fit_transform(train['Fare'].values.reshape(-1,1))\n",
        "\n",
        "#Data Visualization\n",
        "fig = plt.figure(figsize=(15,8))\n",
        "plt.hist([train[train[\"Survived\"]==0][\"normalizedFare\"], train[train[\"Survived\"]==1][\"normalizedFare\"]], stacked=True, bins=10, label=['Dead', 'Survived'])\n",
        "plt.xlabel(\"Normalized Fare Range\")\n",
        "plt.ylabel(\"Count\")\n",
        "plt.legend()\n",
        "\n",
        "test[\"normalizedFare\"] = scale.transform(test['Fare'].values.reshape(-1,1))\n",
        "train.drop(\"Fare\", axis=1, inplace=True)\n",
        "test.drop(\"Fare\", axis=1, inplace=True)"
      ],
      "execution_count": null,
      "outputs": [
        {
          "output_type": "stream",
          "name": "stdout",
          "text": [
            "Total Null Entries in training samples : 0\n",
            "Total Null Entries in testing samples  : 0\n"
          ]
        },
        {
          "output_type": "display_data",
          "data": {
            "image/png": "[encoded data removed]",
            "text/plain": [
              "<Figure size 1080x576 with 1 Axes>"
            ]
          },
          "metadata": {
            "needs_background": "light"
          }
        },
        {
          "output_type": "display_data",
          "data": {
            "image/png": "[encoded data removed]",
            "text/plain": [
              "<Figure size 1080x576 with 1 Axes>"
            ]
          },
          "metadata": {
            "needs_background": "light"
          }
        }
      ]
    },
    {
      "cell_type": "code",
      "metadata": {
        "_cell_guid": "5fb9dc4f-2ce3-463e-baeb-0bc0fbf86d08",
        "_uuid": "6a395bd488a58700dc69358a7c04b47b73aa176a",
        "colab": {
          "base_uri": "https://localhost:8080/",
          "height": 385
        },
        "id": "b7b4jYOUSmEj",
        "outputId": "470c4d81-2a70-4e76-9001-87ccde31e08c"
      },
      "source": [
        "#Feature - Embarked\n",
        "\n",
        "#Number of null values\n",
        "print(\"Total Null Entries in training samples :\", train['Embarked'].isnull().sum())\n",
        "print(\"Total Null Entries in testing samples  :\", test['Embarked'].isnull().sum())\n",
        "\n",
        "#Fill missing values with maximum occurence of embarked category\n",
        "print(\"Maximum Occurrence :\", train['Embarked'].describe()['top'])\n",
        "train['Embarked'].fillna('S', inplace=True)\n",
        "test['Embarked'].fillna('S', inplace=True)\n",
        "\n",
        "#Data Visualization\n",
        "fig, (ax1, ax2) = plt.subplots(1, 2, figsize=(12,5))\n",
        "sns.pointplot(data=train, x=\"Embarked\", y=\"Survived\", ax=ax1)\n",
        "sns.countplot(data=train, x=\"Embarked\", hue=\"Survived\", ax=ax2)\n",
        "\n",
        "#Map Ports to integral values\n",
        "train[\"Embarked\"] = train[\"Embarked\"].map({\"S\" : 0, \"C\" : 1, \"Q\" : 2})\n",
        "test[\"Embarked\"] = test[\"Embarked\"].map({\"S\" : 0, \"C\" : 1, \"Q\" : 2})"
      ],
      "execution_count": null,
      "outputs": [
        {
          "output_type": "stream",
          "name": "stdout",
          "text": [
            "Total Null Entries in training samples : 2\n",
            "Total Null Entries in testing samples  : 0\n",
            "Maximum Occurrence : S\n"
          ]
        },
        {
          "output_type": "display_data",
          "data": {
            "image/png": "[encoded data removed]",
            "text/plain": [
              "<Figure size 864x360 with 2 Axes>"
            ]
          },
          "metadata": {
            "needs_background": "light"
          }
        }
      ]
    },
    {
      "cell_type": "code",
      "metadata": {
        "_cell_guid": "be869540-831c-45f1-939a-0db01cf4eca5",
        "_uuid": "6f808380b49db20ee08c043c4bd4e573cefd24fb",
        "colab": {
          "base_uri": "https://localhost:8080/"
        },
        "id": "l31CgtuSSmEj",
        "outputId": "27784f88-b254-4d97-81d3-3aa2f3b10620"
      },
      "source": [
        "#Feature - Cabin\n",
        "\n",
        "#Number of null values\n",
        "print(\"Total Null Entries in training samples :\", train['Cabin'].isnull().sum())\n",
        "print(\"Total Null Entries in testing samples  :\", test['Cabin'].isnull().sum())\n",
        "\n",
        "#We are also dropping Cabin feature, since it contains a lot of missing values and cannot be used as such.\n",
        "train.drop(\"Cabin\", axis=1, inplace=True)\n",
        "test.drop(\"Cabin\", axis=1, inplace=True)"
      ],
      "execution_count": null,
      "outputs": [
        {
          "output_type": "stream",
          "name": "stdout",
          "text": [
            "Total Null Entries in training samples : 687\n",
            "Total Null Entries in testing samples  : 327\n"
          ]
        }
      ]
    },
    {
      "cell_type": "markdown",
      "metadata": {
        "_cell_guid": "ea448322-b1ed-45db-bf59-652114e46e44",
        "_uuid": "f4c661c150066b6ba14ec6a7b96bd40fff79e85d",
        "id": "QXlCkl5pSmEk"
      },
      "source": [
        "# Machine Learning Algorithm Analysis"
      ]
    },
    {
      "cell_type": "code",
      "metadata": {
        "_cell_guid": "2f78f68e-a010-480e-9442-ad0446080880",
        "_uuid": "032f8cb98c1706ac9d702e4d3c0530c29eaee6da",
        "collapsed": true,
        "id": "1x672BdsSmEk"
      },
      "source": [
        "from sklearn.model_selection import cross_val_score\n",
        "from sklearn.naive_bayes import GaussianNB, MultinomialNB, BernoulliNB \n",
        "from sklearn.neighbors import KNeighborsClassifier\n",
        "from sklearn.linear_model import LogisticRegression\n",
        "from sklearn import svm\n",
        "from sklearn.tree import DecisionTreeClassifier\n",
        "from sklearn.ensemble import RandomForestClassifier, AdaBoostClassifier, GradientBoostingClassifier, VotingClassifier"
      ],
      "execution_count": null,
      "outputs": []
    },
    {
      "cell_type": "code",
      "metadata": {
        "_cell_guid": "22ebb2d1-6382-439c-8c6d-bb8f7c3e5e59",
        "_uuid": "dd8d58a82f33e1289d2abd1f1a251c777f4115ee",
        "collapsed": true,
        "id": "pZKC4ZS7SmEl"
      },
      "source": [
        "#Divide data into input and target values\n",
        "X_train = train.drop(\"Survived\", axis=1)\n",
        "y_train = train[\"Survived\"]\n",
        "\n",
        "#create dictionary to keep track of accuracies\n",
        "Accuracy = {}"
      ],
      "execution_count": null,
      "outputs": []
    },
    {
      "cell_type": "code",
      "metadata": {
        "_cell_guid": "6ccb8051-de88-4537-baad-9df5e30e3bcf",
        "_uuid": "adc26571ca63fd9f68e8ac79112ea4c0e46b2fb0",
        "colab": {
          "base_uri": "https://localhost:8080/",
          "height": 359
        },
        "id": "zAZE1kk_SmEl",
        "outputId": "e63d61a0-8392-409a-8821-37d5360ea031"
      },
      "source": [
        "X_train.head(10)"
      ],
      "execution_count": null,
      "outputs": [
        {
          "output_type": "execute_result",
          "data": {
            "text/html": [
              "<div>\n",
              "<style scoped>\n",
              "    .dataframe tbody tr th:only-of-type {\n",
              "        vertical-align: middle;\n",
              "    }\n",
              "\n",
              "    .dataframe tbody tr th {\n",
              "        vertical-align: top;\n",
              "    }\n",
              "\n",
              "    .dataframe thead th {\n",
              "        text-align: right;\n",
              "    }\n",
              "</style>\n",
              "<table border=\"1\" class=\"dataframe\">\n",
              "  <thead>\n",
              "    <tr style=\"text-align: right;\">\n",
              "      <th></th>\n",
              "      <th>Pclass</th>\n",
              "      <th>Sex</th>\n",
              "      <th>Fare</th>\n",
              "      <th>Embarked</th>\n",
              "      <th>Title</th>\n",
              "      <th>AgeCategory</th>\n",
              "      <th>Family</th>\n",
              "      <th>FamilySize</th>\n",
              "    </tr>\n",
              "  </thead>\n",
              "  <tbody>\n",
              "    <tr>\n",
              "      <th>0</th>\n",
              "      <td>3</td>\n",
              "      <td>0</td>\n",
              "      <td>7.2500</td>\n",
              "      <td>0</td>\n",
              "      <td>0</td>\n",
              "      <td>1</td>\n",
              "      <td>1</td>\n",
              "      <td>1</td>\n",
              "    </tr>\n",
              "    <tr>\n",
              "      <th>1</th>\n",
              "      <td>1</td>\n",
              "      <td>1</td>\n",
              "      <td>71.2833</td>\n",
              "      <td>1</td>\n",
              "      <td>1</td>\n",
              "      <td>1</td>\n",
              "      <td>1</td>\n",
              "      <td>1</td>\n",
              "    </tr>\n",
              "    <tr>\n",
              "      <th>2</th>\n",
              "      <td>3</td>\n",
              "      <td>1</td>\n",
              "      <td>7.9250</td>\n",
              "      <td>0</td>\n",
              "      <td>2</td>\n",
              "      <td>1</td>\n",
              "      <td>0</td>\n",
              "      <td>0</td>\n",
              "    </tr>\n",
              "    <tr>\n",
              "      <th>3</th>\n",
              "      <td>1</td>\n",
              "      <td>1</td>\n",
              "      <td>53.1000</td>\n",
              "      <td>0</td>\n",
              "      <td>1</td>\n",
              "      <td>1</td>\n",
              "      <td>1</td>\n",
              "      <td>1</td>\n",
              "    </tr>\n",
              "    <tr>\n",
              "      <th>4</th>\n",
              "      <td>3</td>\n",
              "      <td>0</td>\n",
              "      <td>8.0500</td>\n",
              "      <td>0</td>\n",
              "      <td>0</td>\n",
              "      <td>1</td>\n",
              "      <td>0</td>\n",
              "      <td>0</td>\n",
              "    </tr>\n",
              "    <tr>\n",
              "      <th>5</th>\n",
              "      <td>3</td>\n",
              "      <td>0</td>\n",
              "      <td>8.4583</td>\n",
              "      <td>2</td>\n",
              "      <td>0</td>\n",
              "      <td>3</td>\n",
              "      <td>0</td>\n",
              "      <td>0</td>\n",
              "    </tr>\n",
              "    <tr>\n",
              "      <th>6</th>\n",
              "      <td>1</td>\n",
              "      <td>0</td>\n",
              "      <td>51.8625</td>\n",
              "      <td>0</td>\n",
              "      <td>0</td>\n",
              "      <td>2</td>\n",
              "      <td>0</td>\n",
              "      <td>0</td>\n",
              "    </tr>\n",
              "    <tr>\n",
              "      <th>7</th>\n",
              "      <td>3</td>\n",
              "      <td>0</td>\n",
              "      <td>21.0750</td>\n",
              "      <td>0</td>\n",
              "      <td>3</td>\n",
              "      <td>0</td>\n",
              "      <td>1</td>\n",
              "      <td>1</td>\n",
              "    </tr>\n",
              "    <tr>\n",
              "      <th>8</th>\n",
              "      <td>3</td>\n",
              "      <td>1</td>\n",
              "      <td>11.1333</td>\n",
              "      <td>0</td>\n",
              "      <td>1</td>\n",
              "      <td>1</td>\n",
              "      <td>1</td>\n",
              "      <td>1</td>\n",
              "    </tr>\n",
              "    <tr>\n",
              "      <th>9</th>\n",
              "      <td>2</td>\n",
              "      <td>1</td>\n",
              "      <td>30.0708</td>\n",
              "      <td>1</td>\n",
              "      <td>1</td>\n",
              "      <td>0</td>\n",
              "      <td>1</td>\n",
              "      <td>1</td>\n",
              "    </tr>\n",
              "  </tbody>\n",
              "</table>\n",
              "</div>"
            ],
            "text/plain": [
              "   Pclass  Sex     Fare  Embarked  Title  AgeCategory  Family  FamilySize\n",
              "0       3    0   7.2500         0      0            1       1           1\n",
              "1       1    1  71.2833         1      1            1       1           1\n",
              "2       3    1   7.9250         0      2            1       0           0\n",
              "3       1    1  53.1000         0      1            1       1           1\n",
              "4       3    0   8.0500         0      0            1       0           0\n",
              "5       3    0   8.4583         2      0            3       0           0\n",
              "6       1    0  51.8625         0      0            2       0           0\n",
              "7       3    0  21.0750         0      3            0       1           1\n",
              "8       3    1  11.1333         0      1            1       1           1\n",
              "9       2    1  30.0708         1      1            0       1           1"
            ]
          },
          "metadata": {},
          "execution_count": 19
        }
      ]
    },
    {
      "cell_type": "code",
      "metadata": {
        "_cell_guid": "af0bd7b3-5b64-4a25-aab6-96ee35d7d97c",
        "_uuid": "f26f0cff6692f3aaf32fbd0cd2b5c24713b8f0e3",
        "colab": {
          "base_uri": "https://localhost:8080/",
          "height": 297
        },
        "id": "XrHFgptrSmEl",
        "outputId": "dbded6e4-6497-4539-b64a-e19f67aaf3cf"
      },
      "source": [
        "X_train.describe()"
      ],
      "execution_count": null,
      "outputs": [
        {
          "output_type": "execute_result",
          "data": {
            "text/html": [
              "<div>\n",
              "<style scoped>\n",
              "    .dataframe tbody tr th:only-of-type {\n",
              "        vertical-align: middle;\n",
              "    }\n",
              "\n",
              "    .dataframe tbody tr th {\n",
              "        vertical-align: top;\n",
              "    }\n",
              "\n",
              "    .dataframe thead th {\n",
              "        text-align: right;\n",
              "    }\n",
              "</style>\n",
              "<table border=\"1\" class=\"dataframe\">\n",
              "  <thead>\n",
              "    <tr style=\"text-align: right;\">\n",
              "      <th></th>\n",
              "      <th>Pclass</th>\n",
              "      <th>Sex</th>\n",
              "      <th>Fare</th>\n",
              "      <th>Embarked</th>\n",
              "      <th>Title</th>\n",
              "      <th>AgeCategory</th>\n",
              "      <th>Family</th>\n",
              "      <th>FamilySize</th>\n",
              "    </tr>\n",
              "  </thead>\n",
              "  <tbody>\n",
              "    <tr>\n",
              "      <th>count</th>\n",
              "      <td>891.000000</td>\n",
              "      <td>891.000000</td>\n",
              "      <td>891.000000</td>\n",
              "      <td>891.000000</td>\n",
              "      <td>891.000000</td>\n",
              "      <td>891.000000</td>\n",
              "      <td>891.000000</td>\n",
              "      <td>891.000000</td>\n",
              "    </tr>\n",
              "    <tr>\n",
              "      <th>mean</th>\n",
              "      <td>2.308642</td>\n",
              "      <td>0.352413</td>\n",
              "      <td>32.204208</td>\n",
              "      <td>0.361392</td>\n",
              "      <td>0.804714</td>\n",
              "      <td>1.342312</td>\n",
              "      <td>0.397306</td>\n",
              "      <td>0.450056</td>\n",
              "    </tr>\n",
              "    <tr>\n",
              "      <th>std</th>\n",
              "      <td>0.836071</td>\n",
              "      <td>0.477990</td>\n",
              "      <td>49.693429</td>\n",
              "      <td>0.635673</td>\n",
              "      <td>1.095455</td>\n",
              "      <td>0.936522</td>\n",
              "      <td>0.489615</td>\n",
              "      <td>0.594476</td>\n",
              "    </tr>\n",
              "    <tr>\n",
              "      <th>min</th>\n",
              "      <td>1.000000</td>\n",
              "      <td>0.000000</td>\n",
              "      <td>0.000000</td>\n",
              "      <td>0.000000</td>\n",
              "      <td>0.000000</td>\n",
              "      <td>0.000000</td>\n",
              "      <td>0.000000</td>\n",
              "      <td>0.000000</td>\n",
              "    </tr>\n",
              "    <tr>\n",
              "      <th>25%</th>\n",
              "      <td>2.000000</td>\n",
              "      <td>0.000000</td>\n",
              "      <td>7.910400</td>\n",
              "      <td>0.000000</td>\n",
              "      <td>0.000000</td>\n",
              "      <td>1.000000</td>\n",
              "      <td>0.000000</td>\n",
              "      <td>0.000000</td>\n",
              "    </tr>\n",
              "    <tr>\n",
              "      <th>50%</th>\n",
              "      <td>3.000000</td>\n",
              "      <td>0.000000</td>\n",
              "      <td>14.454200</td>\n",
              "      <td>0.000000</td>\n",
              "      <td>0.000000</td>\n",
              "      <td>1.000000</td>\n",
              "      <td>0.000000</td>\n",
              "      <td>0.000000</td>\n",
              "    </tr>\n",
              "    <tr>\n",
              "      <th>75%</th>\n",
              "      <td>3.000000</td>\n",
              "      <td>1.000000</td>\n",
              "      <td>31.000000</td>\n",
              "      <td>1.000000</td>\n",
              "      <td>2.000000</td>\n",
              "      <td>2.000000</td>\n",
              "      <td>1.000000</td>\n",
              "      <td>1.000000</td>\n",
              "    </tr>\n",
              "    <tr>\n",
              "      <th>max</th>\n",
              "      <td>3.000000</td>\n",
              "      <td>1.000000</td>\n",
              "      <td>512.329200</td>\n",
              "      <td>2.000000</td>\n",
              "      <td>4.000000</td>\n",
              "      <td>3.000000</td>\n",
              "      <td>1.000000</td>\n",
              "      <td>2.000000</td>\n",
              "    </tr>\n",
              "  </tbody>\n",
              "</table>\n",
              "</div>"
            ],
            "text/plain": [
              "           Pclass         Sex        Fare  ...  AgeCategory      Family  FamilySize\n",
              "count  891.000000  891.000000  891.000000  ...   891.000000  891.000000  891.000000\n",
              "mean     2.308642    0.352413   32.204208  ...     1.342312    0.397306    0.450056\n",
              "std      0.836071    0.477990   49.693429  ...     0.936522    0.489615    0.594476\n",
              "min      1.000000    0.000000    0.000000  ...     0.000000    0.000000    0.000000\n",
              "25%      2.000000    0.000000    7.910400  ...     1.000000    0.000000    0.000000\n",
              "50%      3.000000    0.000000   14.454200  ...     1.000000    0.000000    0.000000\n",
              "75%      3.000000    1.000000   31.000000  ...     2.000000    1.000000    1.000000\n",
              "max      3.000000    1.000000  512.329200  ...     3.000000    1.000000    2.000000\n",
              "\n",
              "[8 rows x 8 columns]"
            ]
          },
          "metadata": {},
          "execution_count": 20
        }
      ]
    },
    {
      "cell_type": "code",
      "metadata": {
        "_cell_guid": "b1631385-ef7f-4164-b41f-e67e58ae0aa5",
        "_uuid": "c78d4568e1780f995c0bfec4f8c116eab77ec819",
        "colab": {
          "base_uri": "https://localhost:8080/",
          "height": 385
        },
        "id": "HM76b2TZSmEm",
        "outputId": "d73707ca-e885-4168-f9fe-60a032a36714"
      },
      "source": [
        "#Method - Naive Bayes \n",
        "\n",
        "#Titanic Dataset is evaluated against all methods in Naive Bayes to decide on best approach.\n",
        "\n",
        "#Gaussian\n",
        "GNB = GaussianNB()\n",
        "scores = cross_val_score(GNB, X_train, y_train, cv=5)\n",
        "accuracyGNB = scores.mean()\n",
        "print(\"Gaussian Naive Bayes Accuracy :\", accuracyGNB)\n",
        "\n",
        "#Multinomial\n",
        "MNB = MultinomialNB()\n",
        "scores = cross_val_score(MNB, X_train, y_train, cv=5)\n",
        "accuracyMNB = scores.mean()\n",
        "print(\"Multinomial Naive Bayes Accuracy :\", accuracyMNB)\n",
        "\n",
        "#Bernoulli\n",
        "BNB = BernoulliNB()\n",
        "scores = cross_val_score(BNB, X_train, y_train, cv=5)\n",
        "accuracyBNB = scores.mean()\n",
        "print(\"Bernoulli Naive Bayes Accuracy :\", accuracyBNB)\n",
        "\n",
        "#Plot accuracies corresponding to various naive bayes methods\n",
        "fig, ax1 = plt.subplots(1, 1, figsize=(8,5))\n",
        "fig = sns.barplot(y=[accuracyGNB, accuracyMNB, accuracyBNB], x=[\"GaussianNB\", \"MultinomialNB\", \"BernoulliNB\"], ax=ax1)\n",
        "fig.set(xlabel=\"Naive Bayes Methods\", ylabel=\"Accuracy\")\n",
        "\n",
        "#Finally we decide to use Bernoulli Naive Bayes\n",
        "Accuracy[\"naiveBayes\"] = accuracyBNB"
      ],
      "execution_count": null,
      "outputs": [
        {
          "output_type": "stream",
          "name": "stdout",
          "text": [
            "Gaussian Naive Bayes Accuracy : 0.7722114117130123\n",
            "Multinomial Naive Bayes Accuracy : 0.7060762036281464\n",
            "Bernoulli Naive Bayes Accuracy : 0.7912372104701526\n"
          ]
        },
        {
          "output_type": "display_data",
          "data": {
            "image/png": "[encoded data removed]",
            "text/plain": [
              "<Figure size 576x360 with 1 Axes>"
            ]
          },
          "metadata": {
            "needs_background": "light"
          }
        }
      ]
    },
    {
      "cell_type": "code",
      "metadata": {
        "_cell_guid": "0b2e92cf-7fde-4dc5-b937-c97927e44ccb",
        "_uuid": "88a7f07d0de337d797d551009d70cf861c49c917",
        "colab": {
          "base_uri": "https://localhost:8080/",
          "height": 548
        },
        "id": "9x4iAjViSmEm",
        "outputId": "d2fdcb92-9179-43a2-b9c4-329afd4a4a0f"
      },
      "source": [
        "#Method - K Nearest Neighbors\n",
        "\n",
        "#Deciding K is very important factor for KNN.\n",
        "#Since target values are either 0 or 1. We have to set K value at least (possible outcomes + 1)3 \n",
        "#and maximum square root of number of training samples. We will use cross-validation technique to find optimal value of K.\n",
        "\n",
        "#Cross-Validation\n",
        "accuracy = []\n",
        "k_value = []\n",
        "for k in range(3,int(np.sqrt(len(train)))):\n",
        "    kNN = KNeighborsClassifier(n_neighbors=k)\n",
        "    scores = cross_val_score(kNN, X_train, y_train, cv=5)\n",
        "    accuracy.append(scores.mean())\n",
        "    k_value.append(k)\n",
        "\n",
        "#Plot accuracies corresponding to value of K\n",
        "fig, ax1 = plt.subplots(1, 1, figsize=(15,8))\n",
        "fig = sns.pointplot(y=accuracy, x=k_value, ax=ax1)\n",
        "fig.set(xlabel=\"K Value\", ylabel=\"Accuracy\")\n",
        "\n",
        "print(\"Maximum Accuracy :\", max(accuracy))\n",
        "print(\"Value of K corresponding to maximum accuracy :\", k_value[accuracy.index(max(accuracy))])\n",
        "\n",
        "#Final value of K must correspond to maximum accuracy.\n",
        "kNN = KNeighborsClassifier(n_neighbors=k_value[accuracy.index(max(accuracy))])\n",
        "scores = cross_val_score(kNN, X_train, y_train, cv=5)\n",
        "accuracy = scores.mean()\n",
        "print(\"K Nearest Neighbor Accuracy :\", accuracy)\n",
        "Accuracy[\"kNN\"] = accuracy"
      ],
      "execution_count": null,
      "outputs": [
        {
          "output_type": "stream",
          "name": "stdout",
          "text": [
            "Maximum Accuracy : 0.7980290000627707\n",
            "Value of K corresponding to maximum accuracy : 3\n",
            "K Nearest Neighbor Accuracy : 0.7980290000627707\n"
          ]
        },
        {
          "output_type": "display_data",
          "data": {
            "image/png": "[encoded data removed]",
            "text/plain": [
              "<Figure size 1080x576 with 1 Axes>"
            ]
          },
          "metadata": {
            "needs_background": "light"
          }
        }
      ]
    },
    {
      "cell_type": "code",
      "metadata": {
        "_cell_guid": "e90f6a1c-fa61-42bc-aa3a-137bf304a384",
        "_uuid": "4eaad98ae9ccc816f0f6e03129577942cb0dff1e",
        "colab": {
          "base_uri": "https://localhost:8080/"
        },
        "id": "plVS1U7cSmEn",
        "outputId": "e31fb2ac-951e-413e-d4c7-063532624442"
      },
      "source": [
        "#Method - Logistic Regreesion\n",
        "\n",
        "logisticRegression = LogisticRegression()\n",
        "scores = cross_val_score(logisticRegression, X_train, y_train, cv=5)\n",
        "accuracy = scores.mean()\n",
        "print(\"Logistic Regreesion Accuracy :\", accuracy)\n",
        "Accuracy[\"logisticRegression\"] = accuracy"
      ],
      "execution_count": null,
      "outputs": [
        {
          "output_type": "stream",
          "name": "stdout",
          "text": [
            "Logistic Regreesion Accuracy : 0.8058313979034587\n"
          ]
        }
      ]
    },
    {
      "cell_type": "code",
      "metadata": {
        "_cell_guid": "3da3e9a7-b7d8-441f-824f-b2be1a025c56",
        "_uuid": "030821765d46efee5d75cd4660a79045b18b02de",
        "colab": {
          "base_uri": "https://localhost:8080/",
          "height": 385
        },
        "id": "LIErhUUVSmEo",
        "outputId": "b148b406-7257-4920-dee5-07e21cc77543"
      },
      "source": [
        "#Method - Support Vector Machine\n",
        "\n",
        "#We will be evaluating SVM with respect to linear kernel, RBF kernel and Polynomial kernel.\n",
        "\n",
        "#Linear Kernel\n",
        "SVML = svm.SVC(kernel=\"linear\")\n",
        "scores = cross_val_score(SVML, X_train, y_train, cv=5)\n",
        "accuracySVML = scores.mean()\n",
        "print(\"Support Vector Machine Accuracy (Linear Kernel) :\", accuracySVML)\n",
        "\n",
        "#RBF Kernel\n",
        "SVMR = svm.SVC(kernel=\"rbf\")\n",
        "scores = cross_val_score(SVMR, X_train, y_train, cv=5)\n",
        "accuracySVMR = scores.mean()\n",
        "print(\"Support Vector Machine Accuracy (RBF Kernel) :\", accuracySVMR)\n",
        "\n",
        "#Polynomial Kernel\n",
        "SVMP = svm.SVC(kernel=\"poly\")\n",
        "scores = cross_val_score(SVMP, X_train, y_train, cv=5)\n",
        "accuracySVMP = scores.mean()\n",
        "print(\"Support Vector Machine Accuracy (Poly Kernel) :\", accuracySVMP)\n",
        "\n",
        "#Plot accuracies corresponding to various naive bayes methods\n",
        "fig, ax1 = plt.subplots(1, 1, figsize=(8,5))\n",
        "fig = sns.barplot(y=[accuracySVML, accuracySVMR, accuracySVMP], x=[\"Linear\", \"RBF\", \"Polynomial\"], ax=ax1)\n",
        "fig.set(xlabel=\"Kernels\", ylabel=\"Accuracy\")\n",
        "\n",
        "#Finally we decide to use Polynomial Kernel\n",
        "Accuracy[\"supportVectorMachine\"] = accuracySVMP"
      ],
      "execution_count": null,
      "outputs": [
        {
          "output_type": "stream",
          "name": "stdout",
          "text": [
            "Support Vector Machine Accuracy (Linear Kernel) : 0.7889837423890528\n",
            "Support Vector Machine Accuracy (RBF Kernel) : 0.6690101060824807\n",
            "Support Vector Machine Accuracy (Poly Kernel) : 0.6532232753750549\n"
          ]
        },
        {
          "output_type": "display_data",
          "data": {
            "image/png": "[encoded data removed]",
            "text/plain": [
              "<Figure size 576x360 with 1 Axes>"
            ]
          },
          "metadata": {
            "needs_background": "light"
          }
        }
      ]
    },
    {
      "cell_type": "code",
      "metadata": {
        "_cell_guid": "d1045f89-68bd-4bae-a2aa-2ba6a454387f",
        "_uuid": "e567d97b8129193bd4a531ed00991331f3b0312a",
        "scrolled": false,
        "colab": {
          "base_uri": "https://localhost:8080/",
          "height": 531
        },
        "id": "nVEkDe-hSmEp",
        "outputId": "14d0c5bf-afed-4afc-f93f-976f4b7f3734"
      },
      "source": [
        "#Method - Decision Tree Classifier\n",
        "\n",
        "decisionTree = DecisionTreeClassifier()\n",
        "scores = cross_val_score(decisionTree, X_train, y_train, cv=5)\n",
        "accuracy = scores.mean()\n",
        "print(\"Decision Tree Classifier Accuracy :\", accuracy)\n",
        "Accuracy[\"decisionTree\"] = accuracy\n",
        "\n",
        "#Feature Weightage\n",
        "decisionTree.fit(X_train, y_train)\n",
        "fig = plt.figure(figsize=(15,8))\n",
        "fig = sns.barplot(y=list(decisionTree.feature_importances_), x=list(X_train.columns), color=\"orange\")\n",
        "fig.set(xlabel=\"features\", ylabel=\"Weights\")"
      ],
      "execution_count": null,
      "outputs": [
        {
          "output_type": "stream",
          "name": "stdout",
          "text": [
            "Decision Tree Classifier Accuracy : 0.8159688657334756\n"
          ]
        },
        {
          "output_type": "execute_result",
          "data": {
            "text/plain": [
              "[Text(0, 0.5, 'Weights'), Text(0.5, 0, 'features')]"
            ]
          },
          "metadata": {},
          "execution_count": 25
        },
        {
          "output_type": "display_data",
          "data": {
            "image/png": "[encoded data removed]",
            "text/plain": [
              "<Figure size 1080x576 with 1 Axes>"
            ]
          },
          "metadata": {
            "needs_background": "light"
          }
        }
      ]
    },
    {
      "cell_type": "code",
      "metadata": {
        "_cell_guid": "a65f07d4-c49a-4f1b-919b-41addd2369a7",
        "_uuid": "46fb9c07a0d90df4814ba6e1dca0ac3e89e3c95a",
        "colab": {
          "base_uri": "https://localhost:8080/",
          "height": 534
        },
        "id": "fkzXF0fGSmEq",
        "outputId": "c56c1b60-82c1-4a5c-f06a-f12296e4ecdf"
      },
      "source": [
        "#Method - Random Forest Classifier\n",
        "\n",
        "randomForest = RandomForestClassifier(n_estimators=100)\n",
        "scores = cross_val_score(randomForest, X_train, y_train, cv=5)\n",
        "RFaccuracy = scores.mean()\n",
        "print(\"Random Forest Classifier Accuracy :\", RFaccuracy)\n",
        "Accuracy[\"randomForest\"] = RFaccuracy\n",
        "\n",
        "#Feature Weightage\n",
        "randomForest.fit(X_train, y_train)\n",
        "fig = plt.figure(figsize=(15,8))\n",
        "fig = sns.barplot(y=list(randomForest.feature_importances_), x=list(X_train.columns), color=\"orange\")\n",
        "fig.set(xlabel=\"features\", ylabel=\"Weights\")"
      ],
      "execution_count": null,
      "outputs": [
        {
          "output_type": "stream",
          "name": "stdout",
          "text": [
            "Random Forest Classifier Accuracy : 0.8103508882053857\n"
          ]
        },
        {
          "output_type": "execute_result",
          "data": {
            "text/plain": [
              "[Text(0, 0.5, 'Weights'), Text(0.5, 0, 'features')]"
            ]
          },
          "metadata": {},
          "execution_count": 26
        },
        {
          "output_type": "display_data",
          "data": {
            "image/png": "[encoded data removed]",
            "text/plain": [
              "<Figure size 1080x576 with 1 Axes>"
            ]
          },
          "metadata": {
            "needs_background": "light"
          }
        }
      ]
    },
    {
      "cell_type": "code",
      "metadata": {
        "_cell_guid": "2aae4a09-8dcc-4984-8435-49bac8277b81",
        "_uuid": "7d42871d94fff2ff6b23318dce244fed39d203ab",
        "colab": {
          "base_uri": "https://localhost:8080/",
          "height": 531
        },
        "id": "Cet3E5G_SmEq",
        "outputId": "d9d45bff-f445-4960-f1dc-d02becd19596"
      },
      "source": [
        "#Method - AdaBoost Classifier\n",
        "\n",
        "adaBoost = AdaBoostClassifier(n_estimators=100)\n",
        "scores = cross_val_score(adaBoost, X_train, y_train, cv=5)\n",
        "accuracy = scores.mean()\n",
        "print(\"AdaBoost Classifier Accuracy :\", accuracy)\n",
        "Accuracy[\"adaBoost\"] = accuracy\n",
        "\n",
        "#Feature Weightage\n",
        "adaBoost.fit(X_train, y_train)\n",
        "fig = plt.figure(figsize=(15,8))\n",
        "fig = sns.barplot(y=list(adaBoost.feature_importances_), x=list(X_train.columns), color=\"orange\")\n",
        "fig.set(xlabel=\"features\", ylabel=\"Weights\")"
      ],
      "execution_count": null,
      "outputs": [
        {
          "output_type": "stream",
          "name": "stdout",
          "text": [
            "AdaBoost Classifier Accuracy : 0.8182223338145753\n"
          ]
        },
        {
          "output_type": "execute_result",
          "data": {
            "text/plain": [
              "[Text(0, 0.5, 'Weights'), Text(0.5, 0, 'features')]"
            ]
          },
          "metadata": {},
          "execution_count": 27
        },
        {
          "output_type": "display_data",
          "data": {
            "image/png": "[encoded data removed]",
            "text/plain": [
              "<Figure size 1080x576 with 1 Axes>"
            ]
          },
          "metadata": {
            "needs_background": "light"
          }
        }
      ]
    },
    {
      "cell_type": "code",
      "metadata": {
        "_cell_guid": "e8829c97-e9d9-4282-99dd-be86bb17c825",
        "_uuid": "da54b94ad251fb30e07365aed04eab9f931e3dfe",
        "colab": {
          "base_uri": "https://localhost:8080/",
          "height": 531
        },
        "id": "A3xKY9tXSmEr",
        "outputId": "f6822ba7-a665-401e-e744-a1980dc6c0b9"
      },
      "source": [
        "#Method - Gradient Boosting Classifier\n",
        "\n",
        "gradientBoosting = GradientBoostingClassifier(n_estimators=100)\n",
        "scores = cross_val_score(gradientBoosting, X_train, y_train, cv=5)\n",
        "accuracy = scores.mean()\n",
        "print(\"Gradient Boosting Classifier Accuracy :\", accuracy)\n",
        "Accuracy[\"gradientBoosting\"] = accuracy\n",
        "\n",
        "#Feature Weightage\n",
        "gradientBoosting.fit(X_train, y_train)\n",
        "fig = plt.figure(figsize=(15,8))\n",
        "fig = sns.barplot(y=list(gradientBoosting.feature_importances_), x=list(X_train.columns), color=\"orange\")\n",
        "fig.set(xlabel=\"features\", ylabel=\"Weights\")"
      ],
      "execution_count": null,
      "outputs": [
        {
          "output_type": "stream",
          "name": "stdout",
          "text": [
            "Gradient Boosting Classifier Accuracy : 0.8294206264515724\n"
          ]
        },
        {
          "output_type": "execute_result",
          "data": {
            "text/plain": [
              "[Text(0, 0.5, 'Weights'), Text(0.5, 0, 'features')]"
            ]
          },
          "metadata": {},
          "execution_count": 28
        },
        {
          "output_type": "display_data",
          "data": {
            "image/png": "[encoded data removed]",
            "text/plain": [
              "<Figure size 1080x576 with 1 Axes>"
            ]
          },
          "metadata": {
            "needs_background": "light"
          }
        }
      ]
    },
    {
      "cell_type": "code",
      "metadata": {
        "_cell_guid": "4f4107dc-e7ff-46b8-b84b-0b9711ce2ff3",
        "_uuid": "bf21efca68a693377b32a1e3030fc08140cb9a3b",
        "colab": {
          "base_uri": "https://localhost:8080/"
        },
        "id": "pxNBWdYbSmEr",
        "outputId": "db2d2d2f-07c2-47be-e7ec-358b3f8e8f9e"
      },
      "source": [
        "#Method - Voting Classifier\n",
        "\n",
        "#I have tried many combinations for voting classifiers, here is what i observed-\n",
        "# 1) Both gradient boosting and adaboost has similar weightage for features. Hence, I think adding\n",
        "#    Only one classifier is fine.\n",
        "# 2) Naive Baeyes has least accuracy and is not much effective.\n",
        "# 3) Adding SVM somehow leads to decrease in accuracy(Maybe due to overfitting). Hence, removed.\n",
        "# 4) Even though decision tree and random forest uses same tree based algorithms, feature weightage is\n",
        "#    totally different and hence effective.\n",
        "\n",
        "votingClasssifier = VotingClassifier(estimators=[('KNN', kNN), ('LR', logisticRegression), (\"DT\", decisionTree), ('RF', randomForest), ('GB', gradientBoosting)], voting=\"hard\")\n",
        "scores = cross_val_score(votingClasssifier, X_train, y_train, cv=5)\n",
        "accuracy = scores.mean()\n",
        "print(\"Voting Classifier Accuracy :\", accuracy)\n",
        "Accuracy[\"votingClasssifier\"] = accuracy"
      ],
      "execution_count": null,
      "outputs": [
        {
          "output_type": "stream",
          "name": "stdout",
          "text": [
            "Voting Classifier Accuracy : 0.8372795179210344\n"
          ]
        }
      ]
    },
    {
      "cell_type": "code",
      "metadata": {
        "_cell_guid": "4f29f427-39a3-44d0-8b7a-81e7ba7f4e35",
        "_uuid": "5c783eb269efc7a2fc71cdb7afd04c746f397739",
        "colab": {
          "base_uri": "https://localhost:8080/"
        },
        "id": "BGL-oCChSmEr",
        "outputId": "72ed9b24-a934-4073-bf5b-cf9ed8d67f1b"
      },
      "source": [
        "print(Accuracy)"
      ],
      "execution_count": null,
      "outputs": [
        {
          "output_type": "stream",
          "name": "stdout",
          "text": [
            "{'naiveBayes': 0.7912372104701526, 'kNN': 0.7980290000627707, 'logisticRegression': 0.8058313979034587, 'supportVectorMachine': 0.6532232753750549, 'decisionTree': 0.8159688657334756, 'randomForest': 0.8103508882053857, 'adaBoost': 0.8182223338145753, 'gradientBoosting': 0.8294206264515724, 'votingClasssifier': 0.8372795179210344}\n"
          ]
        }
      ]
    },
    {
      "cell_type": "code",
      "metadata": {
        "_cell_guid": "f92fb1e6-6aec-45a3-8c85-f29e63683260",
        "_uuid": "4f5341db50b44c3acf47597edc315c5d8b56e5cb",
        "colab": {
          "base_uri": "https://localhost:8080/",
          "height": 514
        },
        "id": "Hdf84_TUSmEs",
        "outputId": "0f6ef163-8a55-49c2-8645-1d1bc9bdbce7"
      },
      "source": [
        "#Plot accuracies with repect to multiple methods\n",
        "fig = plt.figure(figsize=(15,8))\n",
        "fig = sns.pointplot(y=list(Accuracy.values()), x=list(Accuracy.keys()))\n",
        "fig.set(ylabel=\"Accuracy\", xlabel=\"Maching Learning Methods\")"
      ],
      "execution_count": null,
      "outputs": [
        {
          "output_type": "execute_result",
          "data": {
            "text/plain": [
              "[Text(0, 0.5, 'Accuracy'), Text(0.5, 0, 'Maching Learning Methods')]"
            ]
          },
          "metadata": {},
          "execution_count": 31
        },
        {
          "output_type": "display_data",
          "data": {
            "image/png": "[encoded data removed]",
            "text/plain": [
              "<Figure size 1080x576 with 1 Axes>"
            ]
          },
          "metadata": {
            "needs_background": "light"
          }
        }
      ]
    },
    {
      "cell_type": "code",
      "metadata": {
        "_cell_guid": "6b887d4d-348b-46bf-8815-cb29fc75e10e",
        "_uuid": "b39b8cc460ba040f63adb52a4b82656cc9db0cc4",
        "collapsed": true,
        "id": "0dEduWKASmEs"
      },
      "source": [
        "#Create test data\n",
        "X_test = test.drop(\"PassengerId\", axis=1)\n",
        "\n",
        "#Run Voting Classifier for better results\n",
        "votingClasssifier.fit(X_train, y_train)\n",
        "y_test = votingClasssifier.predict(X_test)"
      ],
      "execution_count": null,
      "outputs": []
    },
    {
      "cell_type": "code",
      "metadata": {
        "_cell_guid": "8f7ffe66-c0ee-4a38-a7f3-82e16f7775ed",
        "_uuid": "52c01a1db02ac3bc838bc60ec18103000300bf0c",
        "collapsed": true,
        "id": "oozzrdpVSmEt"
      },
      "source": [
        "submission = pd.DataFrame({\n",
        "        \"PassengerId\": test[\"PassengerId\"],\n",
        "        \"Survived\": y_test\n",
        "    })\n",
        "submission.to_csv('submission.csv', index=False)"
      ],
      "execution_count": null,
      "outputs": []
    },
    {
      "cell_type": "markdown",
      "metadata": {
        "_cell_guid": "8c5a530d-23d6-4ed5-ad40-3607303fabec",
        "_uuid": "3919e3475413afef8535467b9f53aad6c5f3fd5e",
        "id": "1q2RGIlsSmEt"
      },
      "source": [
        "***Final Result against test set - 0.8134* "
      ]
    }
  ]
}